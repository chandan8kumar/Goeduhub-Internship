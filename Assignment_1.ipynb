{
  "nbformat": 4,
  "nbformat_minor": 0,
  "metadata": {
    "colab": {
      "name": "Assignment 1",
      "provenance": []
    },
    "kernelspec": {
      "name": "python379jvsc74a57bd02959ea964ffac56013666637dbf56857e4b63c2f1351fb006eaadbac5235ff1b",
      "display_name": "Python 3.7.9 64-bit"
    },
    "language_info": {
      "name": "python",
      "version": "3.7.9"
    },
    "metadata": {
      "interpreter": {
        "hash": "2959ea964ffac56013666637dbf56857e4b63c2f1351fb006eaadbac5235ff1b"
      }
    }
  },
  "cells": [
    {
      "cell_type": "markdown",
      "metadata": {
        "id": "ngOxbra033JI"
      },
      "source": [
        "## Assignment/Task 1\n",
        "## Chandan Kumar\n",
        "## GO_STP_13267"
      ]
    },
    {
      "cell_type": "markdown",
      "metadata": {
        "id": "UcQc3Q7H-Ybl"
      },
      "source": [
        "Question 1 (Part 1)"
      ]
    },
    {
      "cell_type": "code",
      "metadata": {
        "colab": {
          "base_uri": "https://localhost:8080/"
        },
        "id": "tt_jYlV_4FDu",
        "outputId": "b8265d00-823c-45d6-f456-d1d49e31a6be"
      },
      "source": [
        "Colors=['Yellow','Green','White','Black']\n",
        "Fruits=['Apple','Papaya','Mango','Orange']\n",
        "Animals=[\"Tiger\",\"Lion\",'Deer','Zebra']\n",
        "a=input(\"Enter value of colors, fruits or animals\")\n",
        "if a in Colors:\n",
        "  print(\"Input\", a , \"belongs to colors category\")\n",
        "elif a in Fruits:\n",
        "    print(\"Input\", a ,\"belongs to fruits category\")\n",
        "elif a in Animals:\n",
        "    print(\"Input\",a, \" belongs to animals category\")\n",
        "else:\n",
        "    print(\"Input\", a , \"doesn`t belong to any category\")"
      ],
      "execution_count": 2,
      "outputs": [
        {
          "output_type": "stream",
          "name": "stdout",
          "text": [
            "Input Green belongs to colors category\n"
          ]
        }
      ]
    },
    {
      "cell_type": "markdown",
      "metadata": {
        "id": "kdpv7AhVLHbF"
      },
      "source": [
        "Question 1 (Part 2)"
      ]
    },
    {
      "cell_type": "code",
      "metadata": {
        "colab": {
          "base_uri": "https://localhost:8080/"
        },
        "id": "OtRNtIBb5cAi",
        "outputId": "61ad50a4-0db2-4f66-c8d7-0e01b078e8c0"
      },
      "source": [
        "a=input(\"Enter value of colors, fruits or animals\")\n",
        "b=input(\"Enter value of colors, fruits or animals\")\n",
        "if a in Colors and b in Colors:\n",
        "  print(\"Both are colors\")\n",
        "elif a in Fruits and b in Fruits:\n",
        "    print(\"Both are Fruits\")\n",
        "elif a in Animals and b in Animals:\n",
        "    print(\"Both are Animals\")\n",
        "else:\n",
        "    print(\"They don't belong to same category\")"
      ],
      "execution_count": 2,
      "outputs": [
        {
          "output_type": "stream",
          "name": "stdout",
          "text": [
            "Both are colors\n"
          ]
        }
      ]
    },
    {
      "cell_type": "markdown",
      "metadata": {
        "id": "jHcLOTK7KymV"
      },
      "source": [
        "Question 2"
      ]
    },
    {
      "cell_type": "code",
      "metadata": {
        "colab": {
          "base_uri": "https://localhost:8080/"
        },
        "id": "FSQItwmBEiCQ",
        "outputId": "3b45cdc1-82bb-4ce8-81b2-5350ec742dbd"
      },
      "source": [
        "a=int(input(\"Enter value of a: \"))\n",
        "if a>40 and a<60:\n",
        "  print(\"Score is normal\")\n",
        "if a<40:\n",
        "  print(\"Score is low\")\n",
        "else:\n",
        "  print(\"Score is good\")"
      ],
      "execution_count": 3,
      "outputs": [
        {
          "output_type": "stream",
          "name": "stdout",
          "text": [
            "Score is good\n"
          ]
        }
      ]
    },
    {
      "cell_type": "markdown",
      "metadata": {
        "id": "dTU0HOrJdT0R"
      },
      "source": [
        "QUESTION 3"
      ]
    },
    {
      "cell_type": "code",
      "metadata": {
        "colab": {
          "base_uri": "https://localhost:8080/"
        },
        "id": "P__hrSvNM-6T",
        "outputId": "0438e09f-e931-4ef5-be52-ee96e8ebc7d8"
      },
      "source": [
        "result = [\"Pass\",\"Fail\",\"Fail\",\"Pass\",\"Fail\",\"Pass\",\"Pass\",\"Fail\",\"Fail\",\"Fail\"]\n",
        "i=0\n",
        "for value in result:\n",
        "  if value == \"Pass\":\n",
        "     i += 1 \n",
        "print(\"Number times you passed\", i , \"\\nNumber of times you Failed\", len(result)-i)"
      ],
      "execution_count": 4,
      "outputs": [
        {
          "output_type": "stream",
          "name": "stdout",
          "text": [
            "Number times you passed 4 \nNumber of times you Failed 6\n"
          ]
        }
      ]
    },
    {
      "cell_type": "markdown",
      "metadata": {
        "id": "qPjfadJDdcLk"
      },
      "source": [
        "Question 4"
      ]
    },
    {
      "cell_type": "code",
      "metadata": {
        "colab": {
          "base_uri": "https://localhost:8080/"
        },
        "id": "I31n1Rd2Pb0P",
        "outputId": "fa5abd54-0e83-4ce4-e41b-3e2a74e3b023"
      },
      "source": [
        "x= int(input(\"Enter number of lines\"))\n",
        "for i in range(x):\n",
        "  if(i<= x/2):\n",
        "    print(\"* \"*i)\n",
        "  if(i>x/2):\n",
        "    print(\"* \"*(x-i))"
      ],
      "execution_count": 5,
      "outputs": [
        {
          "output_type": "stream",
          "name": "stdout",
          "text": [
            "\n* \n* * \n* * * \n* * * * \n* * * * * \n* * * * \n* * * \n* * \n* \n"
          ]
        }
      ]
    },
    {
      "cell_type": "markdown",
      "metadata": {
        "id": "CIdja-gJdkjY"
      },
      "source": [
        "Question 5"
      ]
    },
    {
      "cell_type": "code",
      "metadata": {
        "colab": {
          "base_uri": "https://localhost:8080/"
        },
        "id": "Yz2m-lyjRXGI",
        "outputId": "e2fa9a3f-7520-4fd5-8d35-ae3b517f6920"
      },
      "source": [
        "for i in range(1,51):\n",
        "  if i % 10 ==0 and i <50:\n",
        "    a=input(\"are you tired? \")\n",
        "    if a == \"yes\":\n",
        "      print(\"you didn't finish the race\")\n",
        "      break\n",
        "    elif a==\"no\":\n",
        "      continue\n",
        "  elif i == 50:\n",
        "     print(\"you finshed the race\")"
      ],
      "execution_count": 6,
      "outputs": [
        {
          "output_type": "stream",
          "name": "stdout",
          "text": [
            "you finshed the race\n"
          ]
        }
      ]
    },
    {
      "cell_type": "markdown",
      "metadata": {
        "id": "ws3Yh12tdnRK"
      },
      "source": [
        "Question 6"
      ]
    },
    {
      "cell_type": "code",
      "metadata": {
        "colab": {
          "base_uri": "https://localhost:8080/"
        },
        "id": "aFU3Nu7kWc_H",
        "outputId": "3c1acd9e-0515-4710-e227-1244e9138253"
      },
      "source": [
        "for i in range(1500,2701):\n",
        "  if i % 7 == 0 and i % 5 == 0:\n",
        "    print(i, end=\" \")"
      ],
      "execution_count": 7,
      "outputs": [
        {
          "output_type": "stream",
          "name": "stdout",
          "text": [
            "1505 1540 1575 1610 1645 1680 1715 1750 1785 1820 1855 1890 1925 1960 1995 2030 2065 2100 2135 2170 2205 2240 2275 2310 2345 2380 2415 2450 2485 2520 2555 2590 2625 2660 2695 "
          ]
        }
      ]
    },
    {
      "cell_type": "markdown",
      "metadata": {
        "id": "V6KEvW79dpvX"
      },
      "source": [
        "Question 7"
      ]
    },
    {
      "cell_type": "code",
      "metadata": {
        "colab": {
          "base_uri": "https://localhost:8080/"
        },
        "id": "bA-xH1EOXca8",
        "outputId": "0fb0ec66-4d0a-433d-ffbb-7866fcc9dec2"
      },
      "source": [
        "for i in range(10,21):\n",
        "  if(i%2!=0):\n",
        "    print(i*i)"
      ],
      "execution_count": 8,
      "outputs": [
        {
          "output_type": "stream",
          "name": "stdout",
          "text": [
            "121\n169\n225\n289\n361\n"
          ]
        }
      ]
    },
    {
      "cell_type": "markdown",
      "metadata": {
        "id": "80eK6oJ2dsOb"
      },
      "source": [
        "Question 8"
      ]
    },
    {
      "cell_type": "code",
      "metadata": {
        "colab": {
          "base_uri": "https://localhost:8080/"
        },
        "id": "5FCRtHZ-Z_XY",
        "outputId": "eb18a5fc-8661-4eac-a8d3-9e4d8e0ca84d"
      },
      "source": [
        "marks_list = [65, 75, 2100, 95, 83]\n",
        "a = int(input(\"Enter Makrs\"))\n",
        "\n",
        "if a in marks_list:\n",
        "  print(a,\"marks scored in test no:\", marks_list.index(a)+1)\n",
        "else:\n",
        "  print(a, \"Marks not present in the Marks list\")"
      ],
      "execution_count": 9,
      "outputs": [
        {
          "output_type": "stream",
          "name": "stdout",
          "text": [
            "95 marks scored in test no: 4\n"
          ]
        }
      ]
    }
  ]
}