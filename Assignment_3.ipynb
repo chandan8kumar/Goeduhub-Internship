{
 "metadata": {
  "language_info": {
   "codemirror_mode": {
    "name": "ipython",
    "version": 3
   },
   "file_extension": ".py",
   "mimetype": "text/x-python",
   "name": "python",
   "nbconvert_exporter": "python",
   "pygments_lexer": "ipython3",
   "version": "3.7.9"
  },
  "orig_nbformat": 2,
  "kernelspec": {
   "name": "python379jvsc74a57bd02959ea964ffac56013666637dbf56857e4b63c2f1351fb006eaadbac5235ff1b",
   "display_name": "Python 3.7.9 64-bit"
  },
  "metadata": {
   "interpreter": {
    "hash": "2959ea964ffac56013666637dbf56857e4b63c2f1351fb006eaadbac5235ff1b"
   }
  }
 },
 "nbformat": 4,
 "nbformat_minor": 2,
 "cells": [
  {
   "source": [
    "# GO_STP_13267\n",
    "# Task 3\n",
    "# Chandan Kumar"
   ],
   "cell_type": "markdown",
   "metadata": {}
  },
  {
   "source": [
    "# Dictionary Questions\n",
    "## Q.1 Write a Python Program to sort (ascending and descending) a dictionary by value."
   ],
   "cell_type": "markdown",
   "metadata": {}
  },
  {
   "cell_type": "code",
   "execution_count": 1,
   "metadata": {},
   "outputs": [
    {
     "output_type": "stream",
     "name": "stdout",
     "text": [
      "Ascending order of values\n[(5, 1), (10, 1), (2, 2), (8, 3), (1, 4)]\nDescending order of values\n[(1, 4), (8, 3), (2, 2), (10, 1), (5, 1)]\n"
     ]
    }
   ],
   "source": [
    "temp_dict={1:4, 10:1, 2:2, 5:1, 8:3}\n",
    "print(\"Ascending order of values\")\n",
    "print(sorted(temp_dict.items(), reverse=False, key=lambda dic:(dic[1],dic[0])))\n",
    "\n",
    "print(\"Descending order of values\")\n",
    "print(sorted(temp_dict.items(), reverse=True, key=lambda dic:(dic[1],dic[0])))"
   ]
  },
  {
   "source": [
    "## Q.2 Write a Python Program to add a key to a dictionary. \n",
    "## Sample Dictionary : {0: 10, 1: 20}\n",
    "## Expected Result : {0: 10, 1: 20, 2: 30}"
   ],
   "cell_type": "markdown",
   "metadata": {}
  },
  {
   "cell_type": "code",
   "execution_count": 3,
   "metadata": {},
   "outputs": [
    {
     "output_type": "stream",
     "name": "stdout",
     "text": [
      "dict_items([(0, 10), (1, 20), (2, 30)])\n"
     ]
    }
   ],
   "source": [
    "dict1={0:10, 1:20}\n",
    "key, value=map(int, input().strip().split(\" \"))\n",
    "dict1[key]=value\n",
    "print(dict1.items())"
   ]
  },
  {
   "source": [
    "## Q.3 Write a  program asks for City name and Temperature and builds a dictionary using that Later on you can input City name and it will tell you the Temperature of that City."
   ],
   "cell_type": "markdown",
   "metadata": {}
  },
  {
   "cell_type": "code",
   "execution_count": 4,
   "metadata": {},
   "outputs": [
    {
     "output_type": "stream",
     "name": "stdout",
     "text": [
      "dict_items([('Jaipur', '33'), ('Chennai', '35')])\n",
      "Jaipur:33\n"
     ]
    }
   ],
   "source": [
    "temperature={}\n",
    "flag=True\n",
    "while(flag):\n",
    "    city, temp=input().split()\n",
    "    temperature[city]=temp\n",
    "    ans=input(\"Want to enter more? y/n\")\n",
    "    flag=(ans==\"y\")\n",
    "print(temperature.items())\n",
    "\n",
    "city=input(\"Enter city name: \")\n",
    "if(city in temperature.keys()):\n",
    "    print(city+\":\"+temperature[city])"
   ]
  },
  {
   "source": [
    "## Q.4 Write a Python program to convert list to list of dictionaries.\n",
    "\n",
    "### Sample lists: [[\"Black\", \"Red\", \"Maroon\", \"Yellow\"], \n",
    "### [\"#000000\", \"#FF0000\", \"#800000\", \"#FFFF00\"]]\n",
    "\n",
    "### Expected_Output=[{'color_name': 'Black', 'color_code': '#000000'},\n",
    "### {'color_name': 'Red', 'color_code': '#FF0000'}, \n",
    "### {'color_name': 'Maroon', 'color_code': '#800000'},\n",
    "### {'color_name': 'Yellow', 'color_code': '#FFFF00'}]"
   ],
   "cell_type": "markdown",
   "metadata": {}
  },
  {
   "cell_type": "code",
   "execution_count": 6,
   "metadata": {},
   "outputs": [
    {
     "output_type": "stream",
     "name": "stdout",
     "text": [
      "[{'color_name': 'Black', 'color_code': '#000000'}, {'color_name': 'Red', 'color_code': '#FF0000'}, {'color_name': 'Maroon', 'color_code': '#800000'}, {'color_name': 'Yellow', 'color_code': '#FFFF00'}]\n"
     ]
    }
   ],
   "source": [
    "color=[\"Black\", \"Red\", \"Maroon\", \"Yellow\"]\n",
    "hex_code=[\"#000000\", \"#FF0000\", \"#800000\", \"#FFFF00\"]\n",
    "list_of_dict=list()\n",
    "for c, h in zip(color, hex_code):\n",
    "    d={'color_name':c, 'color_code':h}\n",
    "    list_of_dict.append(d)\n",
    "print(list_of_dict)"
   ]
  },
  {
   "source": [
    "## Q.5 We have following information on Employees and their Salary (Salary is in lakhs)"
   ],
   "cell_type": "markdown",
   "metadata": {}
  },
  {
   "cell_type": "code",
   "execution_count": 7,
   "metadata": {},
   "outputs": [
    {
     "output_type": "stream",
     "name": "stdout",
     "text": [
      "John==>14\nSmith==>13\nAlice==>32\nDaneil==>21\n"
     ]
    }
   ],
   "source": [
    "employee=['John', 'Smith', 'Alice', 'Daneil']\n",
    "salary=[14,13,32,21]\n",
    "data={}\n",
    "for e, s in zip(employee, salary):\n",
    "    data[e]=s\n",
    "\n",
    "choice=input(\"Enter command\")\n",
    "if(choice==\"print\"):\n",
    "    for emp in data.keys():\n",
    "        print(emp+\"==>\"+str(data[emp]))\n",
    "elif(choice==\"add\"):\n",
    "    name=input(\"Enter the name of employee\")\n",
    "    if name in data.keys():\n",
    "        print(name+\" Already exists\")\n",
    "    else:\n",
    "        sal=int(input(\"Enter salary\"))\n",
    "        data[name]=sal\n",
    "        print(\"Dictionary:\",data.items())\n",
    "elif(choice==\"remove\"):\n",
    "    name=input(\"Enter name to remove\")\n",
    "    if name in data.keys():\n",
    "        data.pop(name)\n",
    "        for emp in data.keys():\n",
    "            print(emp+\"==>\"+data[emp])\n",
    "    else:\n",
    "        print(name+\" doesn't exist!\")\n",
    "elif(choice==\"query\"):\n",
    "    name=input(\"Enter name of employee\")\n",
    "    print(name+\": \"+str(data[name]))"
   ]
  },
  {
   "source": [
    "# Set Questions\n",
    "## Q.1 What is the difference between a set and a frozenset? Create any set and try to use frozenset(setname).\n",
    "## Ans.1 Frozen set is just an immutable version of a set."
   ],
   "cell_type": "markdown",
   "metadata": {}
  },
  {
   "cell_type": "code",
   "execution_count": 8,
   "metadata": {},
   "outputs": [
    {
     "output_type": "stream",
     "name": "stdout",
     "text": [
      "{1, 2, 3, 4, 7, 10}\nfrozenset({1, 2, 3, 7, 10})\n{1, 2, 3, 7, 10}\n"
     ]
    }
   ],
   "source": [
    "set1={2,1,4,7,3,10}\n",
    "print(set1)\n",
    "print(frozenset(set1).difference({4}))\n",
    "set1.discard(4)\n",
    "print(set1)"
   ]
  },
  {
   "source": [
    "## Q.2 Find the elements in a given set that are not in another set\n",
    "## Difference between set1 and set2 is {10,20,30}"
   ],
   "cell_type": "markdown",
   "metadata": {}
  },
  {
   "cell_type": "code",
   "execution_count": 9,
   "metadata": {},
   "outputs": [
    {
     "output_type": "stream",
     "name": "stdout",
     "text": [
      "{10, 20, 30}\n"
     ]
    }
   ],
   "source": [
    "set1 = {10,20,30,40,50}\n",
    "set2 = {40,50,60,70,80}\n",
    "print(set1-set2)"
   ]
  }
 ]
}